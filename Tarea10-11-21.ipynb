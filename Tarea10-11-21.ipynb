{
  "nbformat": 4,
  "nbformat_minor": 0,
  "metadata": {
    "colab": {
      "name": "Untitled2.ipynb",
      "provenance": [],
      "collapsed_sections": [],
      "authorship_tag": "ABX9TyOGE8xtsokvTP9VdR7Nqh0B",
      "include_colab_link": true
    },
    "kernelspec": {
      "name": "python3",
      "display_name": "Python 3"
    },
    "language_info": {
      "name": "python"
    }
  },
  "cells": [
    {
      "cell_type": "markdown",
      "metadata": {
        "id": "view-in-github",
        "colab_type": "text"
      },
      "source": [
        "<a href=\"https://colab.research.google.com/github/Maxibrionest/MachineLearning/blob/main/Tarea10-11-21.ipynb\" target=\"_parent\"><img src=\"https://colab.research.google.com/assets/colab-badge.svg\" alt=\"Open In Colab\"/></a>"
      ]
    },
    {
      "cell_type": "code",
      "metadata": {
        "id": "eHzNxFaUEIQm"
      },
      "source": [
        "import numpy as np\n",
        "import pandas as pd\n",
        "import seaborn as sns\n",
        "import matplotlib.pyplot as plt\n",
        "from sklearn.impute import KNNImputer\n"
      ],
      "execution_count": 1,
      "outputs": []
    },
    {
      "cell_type": "markdown",
      "metadata": {
        "id": "-mN_6jznEJf7"
      },
      "source": [
        "Pasos:\n",
        "- sacar Y\n",
        "- determinar 5 variables (podria ser matriz de correlacion)\n",
        "- justificar variables\n",
        "- preparar data - MV, normalizacion, estandarizacion, one hot encoder, etc\n",
        "realizar:\n",
        "- regresion lineal, training y test sets, metricas\n",
        "- Lasso, training y test sets, metricas, coef de regresion y cuales fueron consideradas y cuales no\n",
        "- arbol de regresion, training y test sets, metricas\n",
        "- comparar y justificar mejor\n"
      ]
    },
    {
      "cell_type": "markdown",
      "metadata": {
        "id": "W-MOpwKG0Ohm"
      },
      "source": [
        "## seleccion de datos"
      ]
    },
    {
      "cell_type": "code",
      "metadata": {
        "colab": {
          "base_uri": "https://localhost:8080/"
        },
        "id": "6U5g9_RQmkMA",
        "outputId": "428ff37a-a09d-49cb-d23b-66a49d255441"
      },
      "source": [
        "ls"
      ],
      "execution_count": 14,
      "outputs": [
        {
          "output_type": "stream",
          "name": "stdout",
          "text": [
            "\u001b[0m\u001b[01;34msample_data\u001b[0m/\n"
          ]
        }
      ]
    },
    {
      "cell_type": "code",
      "metadata": {
        "id": "lrrid9PejNKL"
      },
      "source": [
        "df_lifeexpectation = pd.read_csv('/gdrive/MyDrive/DuocUC/2021-1/Life Expectancy Data.csv', sep=\",\")"
      ],
      "execution_count": 15,
      "outputs": []
    },
    {
      "cell_type": "code",
      "metadata": {
        "colab": {
          "base_uri": "https://localhost:8080/",
          "height": 461
        },
        "id": "Ded8wcHUjdQc",
        "outputId": "cce5add5-18e1-4da9-ff51-07ac9929e4c5"
      },
      "source": [
        "df_lifeexpectation.sample(10)"
      ],
      "execution_count": 16,
      "outputs": [
        {
          "output_type": "execute_result",
          "data": {
            "text/html": [
              "<div>\n",
              "<style scoped>\n",
              "    .dataframe tbody tr th:only-of-type {\n",
              "        vertical-align: middle;\n",
              "    }\n",
              "\n",
              "    .dataframe tbody tr th {\n",
              "        vertical-align: top;\n",
              "    }\n",
              "\n",
              "    .dataframe thead th {\n",
              "        text-align: right;\n",
              "    }\n",
              "</style>\n",
              "<table border=\"1\" class=\"dataframe\">\n",
              "  <thead>\n",
              "    <tr style=\"text-align: right;\">\n",
              "      <th></th>\n",
              "      <th>Country</th>\n",
              "      <th>Year</th>\n",
              "      <th>Status</th>\n",
              "      <th>Life expectancy</th>\n",
              "      <th>Adult Mortality</th>\n",
              "      <th>infant deaths</th>\n",
              "      <th>Alcohol</th>\n",
              "      <th>percentage expenditure</th>\n",
              "      <th>Hepatitis B</th>\n",
              "      <th>Measles</th>\n",
              "      <th>BMI</th>\n",
              "      <th>under-five deaths</th>\n",
              "      <th>Polio</th>\n",
              "      <th>Total expenditure</th>\n",
              "      <th>Diphtheria</th>\n",
              "      <th>HIV/AIDS</th>\n",
              "      <th>GDP</th>\n",
              "      <th>Population</th>\n",
              "      <th>thinness  1-19 years</th>\n",
              "      <th>thinness 5-9 years</th>\n",
              "      <th>Income composition of resources</th>\n",
              "      <th>Schooling</th>\n",
              "    </tr>\n",
              "  </thead>\n",
              "  <tbody>\n",
              "    <tr>\n",
              "      <th>2327</th>\n",
              "      <td>Singapore</td>\n",
              "      <td>2001</td>\n",
              "      <td>Developed</td>\n",
              "      <td>78.7</td>\n",
              "      <td>76.0</td>\n",
              "      <td>0</td>\n",
              "      <td>2.08</td>\n",
              "      <td>1003.366877</td>\n",
              "      <td>95.0</td>\n",
              "      <td>408</td>\n",
              "      <td>28.9</td>\n",
              "      <td>0</td>\n",
              "      <td>95.0</td>\n",
              "      <td>2.37</td>\n",
              "      <td>96.0</td>\n",
              "      <td>0.1</td>\n",
              "      <td>21577.782300</td>\n",
              "      <td>NaN</td>\n",
              "      <td>2.1</td>\n",
              "      <td>2.0</td>\n",
              "      <td>0.820</td>\n",
              "      <td>12.7</td>\n",
              "    </tr>\n",
              "    <tr>\n",
              "      <th>1640</th>\n",
              "      <td>Malta</td>\n",
              "      <td>2009</td>\n",
              "      <td>Developed</td>\n",
              "      <td>82.0</td>\n",
              "      <td>63.0</td>\n",
              "      <td>0</td>\n",
              "      <td>7.38</td>\n",
              "      <td>335.518057</td>\n",
              "      <td>86.0</td>\n",
              "      <td>1</td>\n",
              "      <td>67.1</td>\n",
              "      <td>0</td>\n",
              "      <td>73.0</td>\n",
              "      <td>8.33</td>\n",
              "      <td>73.0</td>\n",
              "      <td>0.1</td>\n",
              "      <td>2675.582590</td>\n",
              "      <td>412477.0</td>\n",
              "      <td>0.8</td>\n",
              "      <td>0.7</td>\n",
              "      <td>0.815</td>\n",
              "      <td>14.4</td>\n",
              "    </tr>\n",
              "    <tr>\n",
              "      <th>1387</th>\n",
              "      <td>Kiribati</td>\n",
              "      <td>2006</td>\n",
              "      <td>Developing</td>\n",
              "      <td>65.0</td>\n",
              "      <td>212.0</td>\n",
              "      <td>0</td>\n",
              "      <td>0.76</td>\n",
              "      <td>18.194579</td>\n",
              "      <td>88.0</td>\n",
              "      <td>0</td>\n",
              "      <td>72.8</td>\n",
              "      <td>0</td>\n",
              "      <td>86.0</td>\n",
              "      <td>1.93</td>\n",
              "      <td>86.0</td>\n",
              "      <td>0.1</td>\n",
              "      <td>1151.555618</td>\n",
              "      <td>9426.0</td>\n",
              "      <td>0.2</td>\n",
              "      <td>0.1</td>\n",
              "      <td>0.576</td>\n",
              "      <td>12.1</td>\n",
              "    </tr>\n",
              "    <tr>\n",
              "      <th>1828</th>\n",
              "      <td>Nepal</td>\n",
              "      <td>2000</td>\n",
              "      <td>Developing</td>\n",
              "      <td>62.5</td>\n",
              "      <td>238.0</td>\n",
              "      <td>46</td>\n",
              "      <td>0.08</td>\n",
              "      <td>17.912337</td>\n",
              "      <td>NaN</td>\n",
              "      <td>9397</td>\n",
              "      <td>11.4</td>\n",
              "      <td>62</td>\n",
              "      <td>74.0</td>\n",
              "      <td>5.43</td>\n",
              "      <td>74.0</td>\n",
              "      <td>0.1</td>\n",
              "      <td>231.425540</td>\n",
              "      <td>2374911.0</td>\n",
              "      <td>18.5</td>\n",
              "      <td>19.2</td>\n",
              "      <td>0.439</td>\n",
              "      <td>8.9</td>\n",
              "    </tr>\n",
              "    <tr>\n",
              "      <th>920</th>\n",
              "      <td>Finland</td>\n",
              "      <td>2009</td>\n",
              "      <td>Developing</td>\n",
              "      <td>79.7</td>\n",
              "      <td>91.0</td>\n",
              "      <td>0</td>\n",
              "      <td>9.96</td>\n",
              "      <td>579.738437</td>\n",
              "      <td>NaN</td>\n",
              "      <td>2</td>\n",
              "      <td>59.8</td>\n",
              "      <td>0</td>\n",
              "      <td>99.0</td>\n",
              "      <td>9.20</td>\n",
              "      <td>99.0</td>\n",
              "      <td>0.1</td>\n",
              "      <td>4717.155710</td>\n",
              "      <td>5338871.0</td>\n",
              "      <td>0.9</td>\n",
              "      <td>0.8</td>\n",
              "      <td>0.878</td>\n",
              "      <td>17.0</td>\n",
              "    </tr>\n",
              "    <tr>\n",
              "      <th>2348</th>\n",
              "      <td>Slovenia</td>\n",
              "      <td>2012</td>\n",
              "      <td>Developed</td>\n",
              "      <td>82.0</td>\n",
              "      <td>81.0</td>\n",
              "      <td>0</td>\n",
              "      <td>10.95</td>\n",
              "      <td>3283.024864</td>\n",
              "      <td>NaN</td>\n",
              "      <td>2</td>\n",
              "      <td>58.2</td>\n",
              "      <td>0</td>\n",
              "      <td>96.0</td>\n",
              "      <td>9.37</td>\n",
              "      <td>96.0</td>\n",
              "      <td>0.1</td>\n",
              "      <td>22486.471670</td>\n",
              "      <td>257159.0</td>\n",
              "      <td>1.5</td>\n",
              "      <td>1.5</td>\n",
              "      <td>0.877</td>\n",
              "      <td>16.8</td>\n",
              "    </tr>\n",
              "    <tr>\n",
              "      <th>763</th>\n",
              "      <td>Djibouti</td>\n",
              "      <td>2005</td>\n",
              "      <td>Developing</td>\n",
              "      <td>58.6</td>\n",
              "      <td>318.0</td>\n",
              "      <td>2</td>\n",
              "      <td>1.23</td>\n",
              "      <td>12.703259</td>\n",
              "      <td>NaN</td>\n",
              "      <td>298</td>\n",
              "      <td>3.2</td>\n",
              "      <td>2</td>\n",
              "      <td>71.0</td>\n",
              "      <td>7.21</td>\n",
              "      <td>71.0</td>\n",
              "      <td>3.9</td>\n",
              "      <td>94.729749</td>\n",
              "      <td>783254.0</td>\n",
              "      <td>5.9</td>\n",
              "      <td>5.8</td>\n",
              "      <td>0.396</td>\n",
              "      <td>4.0</td>\n",
              "    </tr>\n",
              "    <tr>\n",
              "      <th>23</th>\n",
              "      <td>Albania</td>\n",
              "      <td>2008</td>\n",
              "      <td>Developing</td>\n",
              "      <td>75.3</td>\n",
              "      <td>1.0</td>\n",
              "      <td>1</td>\n",
              "      <td>5.61</td>\n",
              "      <td>36.622068</td>\n",
              "      <td>99.0</td>\n",
              "      <td>0</td>\n",
              "      <td>52.6</td>\n",
              "      <td>1</td>\n",
              "      <td>99.0</td>\n",
              "      <td>5.87</td>\n",
              "      <td>99.0</td>\n",
              "      <td>0.1</td>\n",
              "      <td>437.539647</td>\n",
              "      <td>2947314.0</td>\n",
              "      <td>1.6</td>\n",
              "      <td>1.6</td>\n",
              "      <td>0.713</td>\n",
              "      <td>12.0</td>\n",
              "    </tr>\n",
              "    <tr>\n",
              "      <th>2804</th>\n",
              "      <td>United States of America</td>\n",
              "      <td>2005</td>\n",
              "      <td>Developed</td>\n",
              "      <td>77.5</td>\n",
              "      <td>112.0</td>\n",
              "      <td>28</td>\n",
              "      <td>8.52</td>\n",
              "      <td>0.000000</td>\n",
              "      <td>93.0</td>\n",
              "      <td>66</td>\n",
              "      <td>63.8</td>\n",
              "      <td>33</td>\n",
              "      <td>92.0</td>\n",
              "      <td>15.15</td>\n",
              "      <td>96.0</td>\n",
              "      <td>0.1</td>\n",
              "      <td>NaN</td>\n",
              "      <td>NaN</td>\n",
              "      <td>0.7</td>\n",
              "      <td>0.6</td>\n",
              "      <td>NaN</td>\n",
              "      <td>NaN</td>\n",
              "    </tr>\n",
              "    <tr>\n",
              "      <th>2610</th>\n",
              "      <td>Timor-Leste</td>\n",
              "      <td>2006</td>\n",
              "      <td>Developing</td>\n",
              "      <td>64.9</td>\n",
              "      <td>186.0</td>\n",
              "      <td>2</td>\n",
              "      <td>0.04</td>\n",
              "      <td>28.125605</td>\n",
              "      <td>NaN</td>\n",
              "      <td>90</td>\n",
              "      <td>13.9</td>\n",
              "      <td>3</td>\n",
              "      <td>62.0</td>\n",
              "      <td>0.65</td>\n",
              "      <td>63.0</td>\n",
              "      <td>0.1</td>\n",
              "      <td>441.532260</td>\n",
              "      <td>148621.0</td>\n",
              "      <td>11.9</td>\n",
              "      <td>11.9</td>\n",
              "      <td>0.511</td>\n",
              "      <td>11.0</td>\n",
              "    </tr>\n",
              "  </tbody>\n",
              "</table>\n",
              "</div>"
            ],
            "text/plain": [
              "                       Country  ...  Schooling\n",
              "2327                 Singapore  ...       12.7\n",
              "1640                     Malta  ...       14.4\n",
              "1387                  Kiribati  ...       12.1\n",
              "1828                     Nepal  ...        8.9\n",
              "920                    Finland  ...       17.0\n",
              "2348                  Slovenia  ...       16.8\n",
              "763                   Djibouti  ...        4.0\n",
              "23                     Albania  ...       12.0\n",
              "2804  United States of America  ...        NaN\n",
              "2610               Timor-Leste  ...       11.0\n",
              "\n",
              "[10 rows x 22 columns]"
            ]
          },
          "metadata": {},
          "execution_count": 16
        }
      ]
    },
    {
      "cell_type": "code",
      "metadata": {
        "colab": {
          "base_uri": "https://localhost:8080/",
          "height": 368
        },
        "id": "kHa7z95vjv3H",
        "outputId": "03593d33-94f7-41bc-bb18-cffa13a330bc"
      },
      "source": [
        "df_lifeexpectation.describe()"
      ],
      "execution_count": 23,
      "outputs": [
        {
          "output_type": "execute_result",
          "data": {
            "text/html": [
              "<div>\n",
              "<style scoped>\n",
              "    .dataframe tbody tr th:only-of-type {\n",
              "        vertical-align: middle;\n",
              "    }\n",
              "\n",
              "    .dataframe tbody tr th {\n",
              "        vertical-align: top;\n",
              "    }\n",
              "\n",
              "    .dataframe thead th {\n",
              "        text-align: right;\n",
              "    }\n",
              "</style>\n",
              "<table border=\"1\" class=\"dataframe\">\n",
              "  <thead>\n",
              "    <tr style=\"text-align: right;\">\n",
              "      <th></th>\n",
              "      <th>Year</th>\n",
              "      <th>LifeExpentancy</th>\n",
              "      <th>Adult Mortality</th>\n",
              "      <th>infant deaths</th>\n",
              "      <th>Alcohol</th>\n",
              "      <th>percentage expenditure</th>\n",
              "      <th>Hepatitis B</th>\n",
              "      <th>Measles</th>\n",
              "      <th>BMI</th>\n",
              "      <th>under-five deaths</th>\n",
              "      <th>Polio</th>\n",
              "      <th>Total expenditure</th>\n",
              "      <th>Diphtheria</th>\n",
              "      <th>HIV/AIDS</th>\n",
              "      <th>GDP</th>\n",
              "      <th>Population</th>\n",
              "      <th>thinness  1-19 years</th>\n",
              "      <th>thinness 5-9 years</th>\n",
              "      <th>Income composition of resources</th>\n",
              "      <th>Schooling</th>\n",
              "    </tr>\n",
              "  </thead>\n",
              "  <tbody>\n",
              "    <tr>\n",
              "      <th>count</th>\n",
              "      <td>2938.000000</td>\n",
              "      <td>2928.000000</td>\n",
              "      <td>2928.000000</td>\n",
              "      <td>2938.000000</td>\n",
              "      <td>2744.000000</td>\n",
              "      <td>2938.000000</td>\n",
              "      <td>2385.000000</td>\n",
              "      <td>2938.000000</td>\n",
              "      <td>2904.000000</td>\n",
              "      <td>2938.000000</td>\n",
              "      <td>2919.000000</td>\n",
              "      <td>2712.00000</td>\n",
              "      <td>2919.000000</td>\n",
              "      <td>2938.000000</td>\n",
              "      <td>2490.000000</td>\n",
              "      <td>2.286000e+03</td>\n",
              "      <td>2904.000000</td>\n",
              "      <td>2904.000000</td>\n",
              "      <td>2771.000000</td>\n",
              "      <td>2775.000000</td>\n",
              "    </tr>\n",
              "    <tr>\n",
              "      <th>mean</th>\n",
              "      <td>2007.518720</td>\n",
              "      <td>69.224932</td>\n",
              "      <td>164.796448</td>\n",
              "      <td>30.303948</td>\n",
              "      <td>4.602861</td>\n",
              "      <td>738.251295</td>\n",
              "      <td>80.940461</td>\n",
              "      <td>2419.592240</td>\n",
              "      <td>38.321247</td>\n",
              "      <td>42.035739</td>\n",
              "      <td>82.550188</td>\n",
              "      <td>5.93819</td>\n",
              "      <td>82.324084</td>\n",
              "      <td>1.742103</td>\n",
              "      <td>7483.158469</td>\n",
              "      <td>1.275338e+07</td>\n",
              "      <td>4.839704</td>\n",
              "      <td>4.870317</td>\n",
              "      <td>0.627551</td>\n",
              "      <td>11.992793</td>\n",
              "    </tr>\n",
              "    <tr>\n",
              "      <th>std</th>\n",
              "      <td>4.613841</td>\n",
              "      <td>9.523867</td>\n",
              "      <td>124.292079</td>\n",
              "      <td>117.926501</td>\n",
              "      <td>4.052413</td>\n",
              "      <td>1987.914858</td>\n",
              "      <td>25.070016</td>\n",
              "      <td>11467.272489</td>\n",
              "      <td>20.044034</td>\n",
              "      <td>160.445548</td>\n",
              "      <td>23.428046</td>\n",
              "      <td>2.49832</td>\n",
              "      <td>23.716912</td>\n",
              "      <td>5.077785</td>\n",
              "      <td>14270.169342</td>\n",
              "      <td>6.101210e+07</td>\n",
              "      <td>4.420195</td>\n",
              "      <td>4.508882</td>\n",
              "      <td>0.210904</td>\n",
              "      <td>3.358920</td>\n",
              "    </tr>\n",
              "    <tr>\n",
              "      <th>min</th>\n",
              "      <td>2000.000000</td>\n",
              "      <td>36.300000</td>\n",
              "      <td>1.000000</td>\n",
              "      <td>0.000000</td>\n",
              "      <td>0.010000</td>\n",
              "      <td>0.000000</td>\n",
              "      <td>1.000000</td>\n",
              "      <td>0.000000</td>\n",
              "      <td>1.000000</td>\n",
              "      <td>0.000000</td>\n",
              "      <td>3.000000</td>\n",
              "      <td>0.37000</td>\n",
              "      <td>2.000000</td>\n",
              "      <td>0.100000</td>\n",
              "      <td>1.681350</td>\n",
              "      <td>3.400000e+01</td>\n",
              "      <td>0.100000</td>\n",
              "      <td>0.100000</td>\n",
              "      <td>0.000000</td>\n",
              "      <td>0.000000</td>\n",
              "    </tr>\n",
              "    <tr>\n",
              "      <th>25%</th>\n",
              "      <td>2004.000000</td>\n",
              "      <td>63.100000</td>\n",
              "      <td>74.000000</td>\n",
              "      <td>0.000000</td>\n",
              "      <td>0.877500</td>\n",
              "      <td>4.685343</td>\n",
              "      <td>77.000000</td>\n",
              "      <td>0.000000</td>\n",
              "      <td>19.300000</td>\n",
              "      <td>0.000000</td>\n",
              "      <td>78.000000</td>\n",
              "      <td>4.26000</td>\n",
              "      <td>78.000000</td>\n",
              "      <td>0.100000</td>\n",
              "      <td>463.935626</td>\n",
              "      <td>1.957932e+05</td>\n",
              "      <td>1.600000</td>\n",
              "      <td>1.500000</td>\n",
              "      <td>0.493000</td>\n",
              "      <td>10.100000</td>\n",
              "    </tr>\n",
              "    <tr>\n",
              "      <th>50%</th>\n",
              "      <td>2008.000000</td>\n",
              "      <td>72.100000</td>\n",
              "      <td>144.000000</td>\n",
              "      <td>3.000000</td>\n",
              "      <td>3.755000</td>\n",
              "      <td>64.912906</td>\n",
              "      <td>92.000000</td>\n",
              "      <td>17.000000</td>\n",
              "      <td>43.500000</td>\n",
              "      <td>4.000000</td>\n",
              "      <td>93.000000</td>\n",
              "      <td>5.75500</td>\n",
              "      <td>93.000000</td>\n",
              "      <td>0.100000</td>\n",
              "      <td>1766.947595</td>\n",
              "      <td>1.386542e+06</td>\n",
              "      <td>3.300000</td>\n",
              "      <td>3.300000</td>\n",
              "      <td>0.677000</td>\n",
              "      <td>12.300000</td>\n",
              "    </tr>\n",
              "    <tr>\n",
              "      <th>75%</th>\n",
              "      <td>2012.000000</td>\n",
              "      <td>75.700000</td>\n",
              "      <td>228.000000</td>\n",
              "      <td>22.000000</td>\n",
              "      <td>7.702500</td>\n",
              "      <td>441.534144</td>\n",
              "      <td>97.000000</td>\n",
              "      <td>360.250000</td>\n",
              "      <td>56.200000</td>\n",
              "      <td>28.000000</td>\n",
              "      <td>97.000000</td>\n",
              "      <td>7.49250</td>\n",
              "      <td>97.000000</td>\n",
              "      <td>0.800000</td>\n",
              "      <td>5910.806335</td>\n",
              "      <td>7.420359e+06</td>\n",
              "      <td>7.200000</td>\n",
              "      <td>7.200000</td>\n",
              "      <td>0.779000</td>\n",
              "      <td>14.300000</td>\n",
              "    </tr>\n",
              "    <tr>\n",
              "      <th>max</th>\n",
              "      <td>2015.000000</td>\n",
              "      <td>89.000000</td>\n",
              "      <td>723.000000</td>\n",
              "      <td>1800.000000</td>\n",
              "      <td>17.870000</td>\n",
              "      <td>19479.911610</td>\n",
              "      <td>99.000000</td>\n",
              "      <td>212183.000000</td>\n",
              "      <td>87.300000</td>\n",
              "      <td>2500.000000</td>\n",
              "      <td>99.000000</td>\n",
              "      <td>17.60000</td>\n",
              "      <td>99.000000</td>\n",
              "      <td>50.600000</td>\n",
              "      <td>119172.741800</td>\n",
              "      <td>1.293859e+09</td>\n",
              "      <td>27.700000</td>\n",
              "      <td>28.600000</td>\n",
              "      <td>0.948000</td>\n",
              "      <td>20.700000</td>\n",
              "    </tr>\n",
              "  </tbody>\n",
              "</table>\n",
              "</div>"
            ],
            "text/plain": [
              "              Year  ...    Schooling\n",
              "count  2938.000000  ...  2775.000000\n",
              "mean   2007.518720  ...    11.992793\n",
              "std       4.613841  ...     3.358920\n",
              "min    2000.000000  ...     0.000000\n",
              "25%    2004.000000  ...    10.100000\n",
              "50%    2008.000000  ...    12.300000\n",
              "75%    2012.000000  ...    14.300000\n",
              "max    2015.000000  ...    20.700000\n",
              "\n",
              "[8 rows x 20 columns]"
            ]
          },
          "metadata": {},
          "execution_count": 23
        }
      ]
    },
    {
      "cell_type": "code",
      "metadata": {
        "colab": {
          "base_uri": "https://localhost:8080/"
        },
        "id": "BsMQhn4TvHmh",
        "outputId": "e3a44634-a92a-4600-8f89-413780f50eba"
      },
      "source": [
        "df_lifeexpectation.shape"
      ],
      "execution_count": 18,
      "outputs": [
        {
          "output_type": "execute_result",
          "data": {
            "text/plain": [
              "(2938, 22)"
            ]
          },
          "metadata": {},
          "execution_count": 18
        }
      ]
    },
    {
      "cell_type": "code",
      "metadata": {
        "colab": {
          "base_uri": "https://localhost:8080/",
          "height": 282
        },
        "id": "as8ojyoZxJfb",
        "outputId": "f623e9f8-8324-4505-d09f-4d646cd268db"
      },
      "source": [
        "df_lifeexpectation.type"
      ],
      "execution_count": 22,
      "outputs": [
        {
          "output_type": "error",
          "ename": "AttributeError",
          "evalue": "ignored",
          "traceback": [
            "\u001b[0;31m---------------------------------------------------------------------------\u001b[0m",
            "\u001b[0;31mAttributeError\u001b[0m                            Traceback (most recent call last)",
            "\u001b[0;32m<ipython-input-22-142431ee52d0>\u001b[0m in \u001b[0;36m<module>\u001b[0;34m()\u001b[0m\n\u001b[0;32m----> 1\u001b[0;31m \u001b[0mdf_lifeexpectation\u001b[0m\u001b[0;34m.\u001b[0m\u001b[0mtype\u001b[0m\u001b[0;34m\u001b[0m\u001b[0;34m\u001b[0m\u001b[0m\n\u001b[0m",
            "\u001b[0;32m/usr/local/lib/python3.7/dist-packages/pandas/core/generic.py\u001b[0m in \u001b[0;36m__getattr__\u001b[0;34m(self, name)\u001b[0m\n\u001b[1;32m   5139\u001b[0m             \u001b[0;32mif\u001b[0m \u001b[0mself\u001b[0m\u001b[0;34m.\u001b[0m\u001b[0m_info_axis\u001b[0m\u001b[0;34m.\u001b[0m\u001b[0m_can_hold_identifiers_and_holds_name\u001b[0m\u001b[0;34m(\u001b[0m\u001b[0mname\u001b[0m\u001b[0;34m)\u001b[0m\u001b[0;34m:\u001b[0m\u001b[0;34m\u001b[0m\u001b[0;34m\u001b[0m\u001b[0m\n\u001b[1;32m   5140\u001b[0m                 \u001b[0;32mreturn\u001b[0m \u001b[0mself\u001b[0m\u001b[0;34m[\u001b[0m\u001b[0mname\u001b[0m\u001b[0;34m]\u001b[0m\u001b[0;34m\u001b[0m\u001b[0;34m\u001b[0m\u001b[0m\n\u001b[0;32m-> 5141\u001b[0;31m             \u001b[0;32mreturn\u001b[0m \u001b[0mobject\u001b[0m\u001b[0;34m.\u001b[0m\u001b[0m__getattribute__\u001b[0m\u001b[0;34m(\u001b[0m\u001b[0mself\u001b[0m\u001b[0;34m,\u001b[0m \u001b[0mname\u001b[0m\u001b[0;34m)\u001b[0m\u001b[0;34m\u001b[0m\u001b[0;34m\u001b[0m\u001b[0m\n\u001b[0m\u001b[1;32m   5142\u001b[0m \u001b[0;34m\u001b[0m\u001b[0m\n\u001b[1;32m   5143\u001b[0m     \u001b[0;32mdef\u001b[0m \u001b[0m__setattr__\u001b[0m\u001b[0;34m(\u001b[0m\u001b[0mself\u001b[0m\u001b[0;34m,\u001b[0m \u001b[0mname\u001b[0m\u001b[0;34m:\u001b[0m \u001b[0mstr\u001b[0m\u001b[0;34m,\u001b[0m \u001b[0mvalue\u001b[0m\u001b[0;34m)\u001b[0m \u001b[0;34m->\u001b[0m \u001b[0;32mNone\u001b[0m\u001b[0;34m:\u001b[0m\u001b[0;34m\u001b[0m\u001b[0;34m\u001b[0m\u001b[0m\n",
            "\u001b[0;31mAttributeError\u001b[0m: 'DataFrame' object has no attribute 'type'"
          ]
        }
      ]
    },
    {
      "cell_type": "code",
      "metadata": {
        "id": "GP5pXk7eowks"
      },
      "source": [
        "df_lifeexpectation = df_lifeexpectation.rename({'Life expectancy ': 'LifeExpectancy', 'Adult Mortality':'AdultMortality', 'Income composition of resources':'IncomeCompositionOfResources'}, axis=1)  # new method\n"
      ],
      "execution_count": 45,
      "outputs": []
    },
    {
      "cell_type": "code",
      "metadata": {
        "id": "YXUZwnICx3Mw"
      },
      "source": [
        "corrdat = df_lifeexpectation.corr()"
      ],
      "execution_count": 46,
      "outputs": []
    },
    {
      "cell_type": "code",
      "metadata": {
        "colab": {
          "base_uri": "https://localhost:8080/",
          "height": 763
        },
        "id": "bzi6-OI7m37-",
        "outputId": "b7a1d17d-dd51-48cf-ebc2-14f50a104299"
      },
      "source": [
        "fig , ax = plt.subplots(figsize = (18,10))\n",
        "sns.heatmap(corrdat , annot = True , annot_kws = {'size':12})"
      ],
      "execution_count": 47,
      "outputs": [
        {
          "output_type": "execute_result",
          "data": {
            "text/plain": [
              "<matplotlib.axes._subplots.AxesSubplot at 0x7f95140a7410>"
            ]
          },
          "metadata": {},
          "execution_count": 47
        },
        {
          "output_type": "display_data",
          "data": {
            "image/png": "[encoded data removed]",
            "text/plain": [
              "<Figure size 1296x720 with 2 Axes>"
            ]
          },
          "metadata": {
            "needs_background": "light"
          }
        }
      ]
    },
    {
      "cell_type": "code",
      "metadata": {
        "colab": {
          "base_uri": "https://localhost:8080/"
        },
        "id": "1ZYptt2So1Hn",
        "outputId": "b18c1341-063d-4570-b07e-3ba33533659d"
      },
      "source": [
        "corrdat.columns"
      ],
      "execution_count": 48,
      "outputs": [
        {
          "output_type": "execute_result",
          "data": {
            "text/plain": [
              "Index(['Year', 'LifeExpentancy', 'AdultMortality', 'infant deaths', 'Alcohol',\n",
              "       'percentage expenditure', 'Hepatitis B', 'Measles ', ' BMI ',\n",
              "       'under-five deaths ', 'Polio', 'Total expenditure', 'Diphtheria ',\n",
              "       ' HIV/AIDS', 'GDP', 'Population', ' thinness  1-19 years',\n",
              "       ' thinness 5-9 years', 'IncomeCompositionOfResources', 'Schooling'],\n",
              "      dtype='object')"
            ]
          },
          "metadata": {},
          "execution_count": 48
        }
      ]
    },
    {
      "cell_type": "code",
      "metadata": {
        "id": "tvl_x-27qTlx"
      },
      "source": [
        "def getCorr(dat, lim): #obtiene los features con mayor impacto en el target\n",
        "    feature = []\n",
        "    valor = []\n",
        "    \n",
        "    for i , index in enumerate(dat.index): #bucle para todos los indices\n",
        "        if abs(dat[index]) > lim:\n",
        "            feature.append(index)\n",
        "            print(index)\n",
        "            valor.append(dat[index])\n",
        "\n",
        "    df = pd.DataFrame(data = valor, index = feature, columns = ['corr value'])\n",
        "\n",
        "    return df"
      ],
      "execution_count": 49,
      "outputs": []
    },
    {
      "cell_type": "code",
      "metadata": {
        "colab": {
          "base_uri": "https://localhost:8080/"
        },
        "id": "P33kuKD0sQ1-",
        "outputId": "61e025a1-d8ed-44a0-ff5b-6101145c5900"
      },
      "source": [
        "lim = 0.55\n",
        "corr_value = getCorr(corrdat['LifeExpentancy'], lim)"
      ],
      "execution_count": 50,
      "outputs": [
        {
          "output_type": "stream",
          "name": "stdout",
          "text": [
            "LifeExpentancy\n",
            "AdultMortality\n",
            " BMI \n",
            " HIV/AIDS\n",
            "IncomeCompositionOfResources\n",
            "Schooling\n"
          ]
        }
      ]
    },
    {
      "cell_type": "code",
      "metadata": {
        "colab": {
          "base_uri": "https://localhost:8080/",
          "height": 235
        },
        "id": "Wq_3tZDKsU3-",
        "outputId": "76138b35-6907-4b70-fc8f-de4ab5a3712d"
      },
      "source": [
        "corr_value.sort_values(by=['corr value'])"
      ],
      "execution_count": 51,
      "outputs": [
        {
          "output_type": "execute_result",
          "data": {
            "text/html": [
              "<div>\n",
              "<style scoped>\n",
              "    .dataframe tbody tr th:only-of-type {\n",
              "        vertical-align: middle;\n",
              "    }\n",
              "\n",
              "    .dataframe tbody tr th {\n",
              "        vertical-align: top;\n",
              "    }\n",
              "\n",
              "    .dataframe thead th {\n",
              "        text-align: right;\n",
              "    }\n",
              "</style>\n",
              "<table border=\"1\" class=\"dataframe\">\n",
              "  <thead>\n",
              "    <tr style=\"text-align: right;\">\n",
              "      <th></th>\n",
              "      <th>corr value</th>\n",
              "    </tr>\n",
              "  </thead>\n",
              "  <tbody>\n",
              "    <tr>\n",
              "      <th>AdultMortality</th>\n",
              "      <td>-0.696359</td>\n",
              "    </tr>\n",
              "    <tr>\n",
              "      <th>HIV/AIDS</th>\n",
              "      <td>-0.556556</td>\n",
              "    </tr>\n",
              "    <tr>\n",
              "      <th>BMI</th>\n",
              "      <td>0.567694</td>\n",
              "    </tr>\n",
              "    <tr>\n",
              "      <th>IncomeCompositionOfResources</th>\n",
              "      <td>0.724776</td>\n",
              "    </tr>\n",
              "    <tr>\n",
              "      <th>Schooling</th>\n",
              "      <td>0.751975</td>\n",
              "    </tr>\n",
              "    <tr>\n",
              "      <th>LifeExpentancy</th>\n",
              "      <td>1.000000</td>\n",
              "    </tr>\n",
              "  </tbody>\n",
              "</table>\n",
              "</div>"
            ],
            "text/plain": [
              "                              corr value\n",
              "AdultMortality                 -0.696359\n",
              " HIV/AIDS                      -0.556556\n",
              " BMI                            0.567694\n",
              "IncomeCompositionOfResources    0.724776\n",
              "Schooling                       0.751975\n",
              "LifeExpentancy                  1.000000"
            ]
          },
          "metadata": {},
          "execution_count": 51
        }
      ]
    },
    {
      "cell_type": "markdown",
      "metadata": {
        "id": "N9y3YzP4shUI"
      },
      "source": [
        "Con esto se obtiene que las variables que afectan en mayor medida a la esperanza de vida son, en orden segun valor absoluto: \n",
        "- Schooling\n",
        "- Income composition of resources\n",
        "- Adult Mortality\n",
        "- BMI\n",
        "- HIV/AIDS"
      ]
    },
    {
      "cell_type": "code",
      "metadata": {
        "colab": {
          "base_uri": "https://localhost:8080/",
          "height": 204
        },
        "id": "bawOKCj_sWm6",
        "outputId": "16f6d098-824c-4ead-851f-fbbb1664ccfd"
      },
      "source": [
        "df_op = df_lifeexpectation[corr_value.index]\n",
        "df_op.head()"
      ],
      "execution_count": 52,
      "outputs": [
        {
          "output_type": "execute_result",
          "data": {
            "text/html": [
              "<div>\n",
              "<style scoped>\n",
              "    .dataframe tbody tr th:only-of-type {\n",
              "        vertical-align: middle;\n",
              "    }\n",
              "\n",
              "    .dataframe tbody tr th {\n",
              "        vertical-align: top;\n",
              "    }\n",
              "\n",
              "    .dataframe thead th {\n",
              "        text-align: right;\n",
              "    }\n",
              "</style>\n",
              "<table border=\"1\" class=\"dataframe\">\n",
              "  <thead>\n",
              "    <tr style=\"text-align: right;\">\n",
              "      <th></th>\n",
              "      <th>LifeExpentancy</th>\n",
              "      <th>AdultMortality</th>\n",
              "      <th>BMI</th>\n",
              "      <th>HIV/AIDS</th>\n",
              "      <th>IncomeCompositionOfResources</th>\n",
              "      <th>Schooling</th>\n",
              "    </tr>\n",
              "  </thead>\n",
              "  <tbody>\n",
              "    <tr>\n",
              "      <th>0</th>\n",
              "      <td>65.0</td>\n",
              "      <td>263.0</td>\n",
              "      <td>19.1</td>\n",
              "      <td>0.1</td>\n",
              "      <td>0.479</td>\n",
              "      <td>10.1</td>\n",
              "    </tr>\n",
              "    <tr>\n",
              "      <th>1</th>\n",
              "      <td>59.9</td>\n",
              "      <td>271.0</td>\n",
              "      <td>18.6</td>\n",
              "      <td>0.1</td>\n",
              "      <td>0.476</td>\n",
              "      <td>10.0</td>\n",
              "    </tr>\n",
              "    <tr>\n",
              "      <th>2</th>\n",
              "      <td>59.9</td>\n",
              "      <td>268.0</td>\n",
              "      <td>18.1</td>\n",
              "      <td>0.1</td>\n",
              "      <td>0.470</td>\n",
              "      <td>9.9</td>\n",
              "    </tr>\n",
              "    <tr>\n",
              "      <th>3</th>\n",
              "      <td>59.5</td>\n",
              "      <td>272.0</td>\n",
              "      <td>17.6</td>\n",
              "      <td>0.1</td>\n",
              "      <td>0.463</td>\n",
              "      <td>9.8</td>\n",
              "    </tr>\n",
              "    <tr>\n",
              "      <th>4</th>\n",
              "      <td>59.2</td>\n",
              "      <td>275.0</td>\n",
              "      <td>17.2</td>\n",
              "      <td>0.1</td>\n",
              "      <td>0.454</td>\n",
              "      <td>9.5</td>\n",
              "    </tr>\n",
              "  </tbody>\n",
              "</table>\n",
              "</div>"
            ],
            "text/plain": [
              "   LifeExpentancy  AdultMortality  ...  IncomeCompositionOfResources  Schooling\n",
              "0            65.0           263.0  ...                         0.479       10.1\n",
              "1            59.9           271.0  ...                         0.476       10.0\n",
              "2            59.9           268.0  ...                         0.470        9.9\n",
              "3            59.5           272.0  ...                         0.463        9.8\n",
              "4            59.2           275.0  ...                         0.454        9.5\n",
              "\n",
              "[5 rows x 6 columns]"
            ]
          },
          "metadata": {},
          "execution_count": 52
        }
      ]
    },
    {
      "cell_type": "code",
      "metadata": {
        "colab": {
          "base_uri": "https://localhost:8080/"
        },
        "id": "GxJTjVxtvjcJ",
        "outputId": "8887d0f2-7873-4732-bfcd-5f9d8471ca9c"
      },
      "source": [
        "df_op.shape"
      ],
      "execution_count": 53,
      "outputs": [
        {
          "output_type": "execute_result",
          "data": {
            "text/plain": [
              "(2938, 6)"
            ]
          },
          "metadata": {},
          "execution_count": 53
        }
      ]
    },
    {
      "cell_type": "code",
      "metadata": {
        "colab": {
          "base_uri": "https://localhost:8080/",
          "height": 282
        },
        "id": "OraSWKb6w4Wi",
        "outputId": "507832e1-c2ce-4707-b70b-94a1906133f3"
      },
      "source": [
        "df_op.type"
      ],
      "execution_count": 54,
      "outputs": [
        {
          "output_type": "error",
          "ename": "AttributeError",
          "evalue": "ignored",
          "traceback": [
            "\u001b[0;31m---------------------------------------------------------------------------\u001b[0m",
            "\u001b[0;31mAttributeError\u001b[0m                            Traceback (most recent call last)",
            "\u001b[0;32m<ipython-input-54-41b361db682c>\u001b[0m in \u001b[0;36m<module>\u001b[0;34m()\u001b[0m\n\u001b[0;32m----> 1\u001b[0;31m \u001b[0mdf_op\u001b[0m\u001b[0;34m.\u001b[0m\u001b[0mtype\u001b[0m\u001b[0;34m\u001b[0m\u001b[0;34m\u001b[0m\u001b[0m\n\u001b[0m",
            "\u001b[0;32m/usr/local/lib/python3.7/dist-packages/pandas/core/generic.py\u001b[0m in \u001b[0;36m__getattr__\u001b[0;34m(self, name)\u001b[0m\n\u001b[1;32m   5139\u001b[0m             \u001b[0;32mif\u001b[0m \u001b[0mself\u001b[0m\u001b[0;34m.\u001b[0m\u001b[0m_info_axis\u001b[0m\u001b[0;34m.\u001b[0m\u001b[0m_can_hold_identifiers_and_holds_name\u001b[0m\u001b[0;34m(\u001b[0m\u001b[0mname\u001b[0m\u001b[0;34m)\u001b[0m\u001b[0;34m:\u001b[0m\u001b[0;34m\u001b[0m\u001b[0;34m\u001b[0m\u001b[0m\n\u001b[1;32m   5140\u001b[0m                 \u001b[0;32mreturn\u001b[0m \u001b[0mself\u001b[0m\u001b[0;34m[\u001b[0m\u001b[0mname\u001b[0m\u001b[0;34m]\u001b[0m\u001b[0;34m\u001b[0m\u001b[0;34m\u001b[0m\u001b[0m\n\u001b[0;32m-> 5141\u001b[0;31m             \u001b[0;32mreturn\u001b[0m \u001b[0mobject\u001b[0m\u001b[0;34m.\u001b[0m\u001b[0m__getattribute__\u001b[0m\u001b[0;34m(\u001b[0m\u001b[0mself\u001b[0m\u001b[0;34m,\u001b[0m \u001b[0mname\u001b[0m\u001b[0;34m)\u001b[0m\u001b[0;34m\u001b[0m\u001b[0;34m\u001b[0m\u001b[0m\n\u001b[0m\u001b[1;32m   5142\u001b[0m \u001b[0;34m\u001b[0m\u001b[0m\n\u001b[1;32m   5143\u001b[0m     \u001b[0;32mdef\u001b[0m \u001b[0m__setattr__\u001b[0m\u001b[0;34m(\u001b[0m\u001b[0mself\u001b[0m\u001b[0;34m,\u001b[0m \u001b[0mname\u001b[0m\u001b[0;34m:\u001b[0m \u001b[0mstr\u001b[0m\u001b[0;34m,\u001b[0m \u001b[0mvalue\u001b[0m\u001b[0;34m)\u001b[0m \u001b[0;34m->\u001b[0m \u001b[0;32mNone\u001b[0m\u001b[0;34m:\u001b[0m\u001b[0;34m\u001b[0m\u001b[0;34m\u001b[0m\u001b[0m\n",
            "\u001b[0;31mAttributeError\u001b[0m: 'DataFrame' object has no attribute 'type'"
          ]
        }
      ]
    },
    {
      "cell_type": "code",
      "metadata": {
        "id": "5hI7IJVUvnD9"
      },
      "source": [
        "X = df_op.drop(['LifeExpentancy'], axis=1)\n",
        "Y = df_op.LifeExpentancy.copy()"
      ],
      "execution_count": 55,
      "outputs": []
    },
    {
      "cell_type": "code",
      "metadata": {
        "colab": {
          "base_uri": "https://localhost:8080/",
          "height": 204
        },
        "id": "3oGVI94gwAHh",
        "outputId": "7d716b30-99a3-42b1-c9ca-e46baa5cd946"
      },
      "source": [
        "X.head()"
      ],
      "execution_count": 56,
      "outputs": [
        {
          "output_type": "execute_result",
          "data": {
            "text/html": [
              "<div>\n",
              "<style scoped>\n",
              "    .dataframe tbody tr th:only-of-type {\n",
              "        vertical-align: middle;\n",
              "    }\n",
              "\n",
              "    .dataframe tbody tr th {\n",
              "        vertical-align: top;\n",
              "    }\n",
              "\n",
              "    .dataframe thead th {\n",
              "        text-align: right;\n",
              "    }\n",
              "</style>\n",
              "<table border=\"1\" class=\"dataframe\">\n",
              "  <thead>\n",
              "    <tr style=\"text-align: right;\">\n",
              "      <th></th>\n",
              "      <th>AdultMortality</th>\n",
              "      <th>BMI</th>\n",
              "      <th>HIV/AIDS</th>\n",
              "      <th>IncomeCompositionOfResources</th>\n",
              "      <th>Schooling</th>\n",
              "    </tr>\n",
              "  </thead>\n",
              "  <tbody>\n",
              "    <tr>\n",
              "      <th>0</th>\n",
              "      <td>263.0</td>\n",
              "      <td>19.1</td>\n",
              "      <td>0.1</td>\n",
              "      <td>0.479</td>\n",
              "      <td>10.1</td>\n",
              "    </tr>\n",
              "    <tr>\n",
              "      <th>1</th>\n",
              "      <td>271.0</td>\n",
              "      <td>18.6</td>\n",
              "      <td>0.1</td>\n",
              "      <td>0.476</td>\n",
              "      <td>10.0</td>\n",
              "    </tr>\n",
              "    <tr>\n",
              "      <th>2</th>\n",
              "      <td>268.0</td>\n",
              "      <td>18.1</td>\n",
              "      <td>0.1</td>\n",
              "      <td>0.470</td>\n",
              "      <td>9.9</td>\n",
              "    </tr>\n",
              "    <tr>\n",
              "      <th>3</th>\n",
              "      <td>272.0</td>\n",
              "      <td>17.6</td>\n",
              "      <td>0.1</td>\n",
              "      <td>0.463</td>\n",
              "      <td>9.8</td>\n",
              "    </tr>\n",
              "    <tr>\n",
              "      <th>4</th>\n",
              "      <td>275.0</td>\n",
              "      <td>17.2</td>\n",
              "      <td>0.1</td>\n",
              "      <td>0.454</td>\n",
              "      <td>9.5</td>\n",
              "    </tr>\n",
              "  </tbody>\n",
              "</table>\n",
              "</div>"
            ],
            "text/plain": [
              "   AdultMortality   BMI    HIV/AIDS  IncomeCompositionOfResources  Schooling\n",
              "0           263.0   19.1        0.1                         0.479       10.1\n",
              "1           271.0   18.6        0.1                         0.476       10.0\n",
              "2           268.0   18.1        0.1                         0.470        9.9\n",
              "3           272.0   17.6        0.1                         0.463        9.8\n",
              "4           275.0   17.2        0.1                         0.454        9.5"
            ]
          },
          "metadata": {},
          "execution_count": 56
        }
      ]
    },
    {
      "cell_type": "code",
      "metadata": {
        "colab": {
          "base_uri": "https://localhost:8080/"
        },
        "id": "uGW_I5otz3yZ",
        "outputId": "53d6c9c4-3231-4ad0-c2f0-5c23b93de04f"
      },
      "source": [
        "Y.head()"
      ],
      "execution_count": 57,
      "outputs": [
        {
          "output_type": "execute_result",
          "data": {
            "text/plain": [
              "0    65.0\n",
              "1    59.9\n",
              "2    59.9\n",
              "3    59.5\n",
              "4    59.2\n",
              "Name: LifeExpentancy, dtype: float64"
            ]
          },
          "metadata": {},
          "execution_count": 57
        }
      ]
    },
    {
      "cell_type": "markdown",
      "metadata": {
        "id": "cuVhYXUl0K7J"
      },
      "source": [
        "## limpieza de datos\n"
      ]
    },
    {
      "cell_type": "code",
      "metadata": {
        "colab": {
          "base_uri": "https://localhost:8080/"
        },
        "id": "J9MoHwsLz5lL",
        "outputId": "d26166ac-8dd8-4c32-ece6-6e2dc2c995e0"
      },
      "source": [
        "df_op.isna().sum()"
      ],
      "execution_count": 69,
      "outputs": [
        {
          "output_type": "execute_result",
          "data": {
            "text/plain": [
              "LifeExpentancy                   10\n",
              "AdultMortality                   10\n",
              " BMI                             34\n",
              " HIV/AIDS                         0\n",
              "IncomeCompositionOfResources    167\n",
              "Schooling                       163\n",
              "dtype: int64"
            ]
          },
          "metadata": {},
          "execution_count": 69
        }
      ]
    },
    {
      "cell_type": "code",
      "metadata": {
        "colab": {
          "base_uri": "https://localhost:8080/",
          "height": 282
        },
        "id": "Paxlzqh80zHn",
        "outputId": "bfe1109c-9983-4959-8534-ff2f9cde1166"
      },
      "source": [
        "df_op.isna().sum(axis=1).hist()"
      ],
      "execution_count": 70,
      "outputs": [
        {
          "output_type": "execute_result",
          "data": {
            "text/plain": [
              "<matplotlib.axes._subplots.AxesSubplot at 0x7f9515f724d0>"
            ]
          },
          "metadata": {},
          "execution_count": 70
        },
        {
          "output_type": "display_data",
          "data": {
            "image/png": "[encoded data removed]",
            "text/plain": [
              "<Figure size 432x288 with 1 Axes>"
            ]
          },
          "metadata": {
            "needs_background": "light"
          }
        }
      ]
    },
    {
      "cell_type": "code",
      "metadata": {
        "colab": {
          "base_uri": "https://localhost:8080/"
        },
        "id": "9rMGAW1B1Ajv",
        "outputId": "1525c940-2308-4446-b1b0-f700b919db1c"
      },
      "source": [
        "df_op.isna().sum(axis=1).sort_values(ascending=False)"
      ],
      "execution_count": 79,
      "outputs": [
        {
          "output_type": "execute_result",
          "data": {
            "text/plain": [
              "1715    5\n",
              "2216    4\n",
              "1909    4\n",
              "624     4\n",
              "1650    3\n",
              "       ..\n",
              "1869    0\n",
              "1868    0\n",
              "1867    0\n",
              "1866    0\n",
              "0       0\n",
              "Length: 2938, dtype: int64"
            ]
          },
          "metadata": {},
          "execution_count": 79
        }
      ]
    },
    {
      "cell_type": "code",
      "metadata": {
        "colab": {
          "base_uri": "https://localhost:8080/"
        },
        "id": "9mpwZ2ix26jc",
        "outputId": "8e983080-aad0-4ceb-90a8-a331cf6da438"
      },
      "source": [
        "df_op.iloc[1715]"
      ],
      "execution_count": 81,
      "outputs": [
        {
          "output_type": "execute_result",
          "data": {
            "text/plain": [
              "LifeExpentancy                  NaN\n",
              "AdultMortality                  NaN\n",
              " BMI                            NaN\n",
              " HIV/AIDS                       0.1\n",
              "IncomeCompositionOfResources    NaN\n",
              "Schooling                       NaN\n",
              "Name: 1715, dtype: float64"
            ]
          },
          "metadata": {},
          "execution_count": 81
        }
      ]
    },
    {
      "cell_type": "code",
      "metadata": {
        "colab": {
          "base_uri": "https://localhost:8080/",
          "height": 419
        },
        "id": "d_TIO2jw31VE",
        "outputId": "17c8f468-3450-43ef-b9b4-c1962e318b61"
      },
      "source": [
        "ex = df_op.isna().sum(axis=1).to_frame()\n",
        "ex = ex.rename({0:'ac'}, axis=1)  # new method\n",
        "ex"
      ],
      "execution_count": 93,
      "outputs": [
        {
          "output_type": "execute_result",
          "data": {
            "text/html": [
              "<div>\n",
              "<style scoped>\n",
              "    .dataframe tbody tr th:only-of-type {\n",
              "        vertical-align: middle;\n",
              "    }\n",
              "\n",
              "    .dataframe tbody tr th {\n",
              "        vertical-align: top;\n",
              "    }\n",
              "\n",
              "    .dataframe thead th {\n",
              "        text-align: right;\n",
              "    }\n",
              "</style>\n",
              "<table border=\"1\" class=\"dataframe\">\n",
              "  <thead>\n",
              "    <tr style=\"text-align: right;\">\n",
              "      <th></th>\n",
              "      <th>ac</th>\n",
              "    </tr>\n",
              "  </thead>\n",
              "  <tbody>\n",
              "    <tr>\n",
              "      <th>0</th>\n",
              "      <td>0</td>\n",
              "    </tr>\n",
              "    <tr>\n",
              "      <th>1</th>\n",
              "      <td>0</td>\n",
              "    </tr>\n",
              "    <tr>\n",
              "      <th>2</th>\n",
              "      <td>0</td>\n",
              "    </tr>\n",
              "    <tr>\n",
              "      <th>3</th>\n",
              "      <td>0</td>\n",
              "    </tr>\n",
              "    <tr>\n",
              "      <th>4</th>\n",
              "      <td>0</td>\n",
              "    </tr>\n",
              "    <tr>\n",
              "      <th>...</th>\n",
              "      <td>...</td>\n",
              "    </tr>\n",
              "    <tr>\n",
              "      <th>2933</th>\n",
              "      <td>0</td>\n",
              "    </tr>\n",
              "    <tr>\n",
              "      <th>2934</th>\n",
              "      <td>0</td>\n",
              "    </tr>\n",
              "    <tr>\n",
              "      <th>2935</th>\n",
              "      <td>0</td>\n",
              "    </tr>\n",
              "    <tr>\n",
              "      <th>2936</th>\n",
              "      <td>0</td>\n",
              "    </tr>\n",
              "    <tr>\n",
              "      <th>2937</th>\n",
              "      <td>0</td>\n",
              "    </tr>\n",
              "  </tbody>\n",
              "</table>\n",
              "<p>2938 rows × 1 columns</p>\n",
              "</div>"
            ],
            "text/plain": [
              "      ac\n",
              "0      0\n",
              "1      0\n",
              "2      0\n",
              "3      0\n",
              "4      0\n",
              "...   ..\n",
              "2933   0\n",
              "2934   0\n",
              "2935   0\n",
              "2936   0\n",
              "2937   0\n",
              "\n",
              "[2938 rows x 1 columns]"
            ]
          },
          "metadata": {},
          "execution_count": 93
        }
      ]
    },
    {
      "cell_type": "code",
      "metadata": {
        "colab": {
          "base_uri": "https://localhost:8080/"
        },
        "id": "_o1OEhGY43A3",
        "outputId": "081f1ef8-d32d-4f70-b584-0b6213f05500"
      },
      "source": [
        "ex[ex.ac > 0].groupby('ac').size()"
      ],
      "execution_count": 104,
      "outputs": [
        {
          "output_type": "execute_result",
          "data": {
            "text/plain": [
              "ac\n",
              "1     32\n",
              "2    163\n",
              "3      3\n",
              "4      3\n",
              "5      1\n",
              "dtype: int64"
            ]
          },
          "metadata": {},
          "execution_count": 104
        }
      ]
    },
    {
      "cell_type": "code",
      "metadata": {
        "id": "S7sJItsH44L6"
      },
      "source": [
        "helper = ex[ex.ac>=3]"
      ],
      "execution_count": 106,
      "outputs": []
    },
    {
      "cell_type": "code",
      "metadata": {
        "colab": {
          "base_uri": "https://localhost:8080/"
        },
        "id": "63keS14c6ajL",
        "outputId": "739525d4-b90d-41ff-b089-c1fd172ba2d5"
      },
      "source": [
        "lhelper = helper.index.values\n",
        "lhelper"
      ],
      "execution_count": 117,
      "outputs": [
        {
          "output_type": "execute_result",
          "data": {
            "text/plain": [
              "array([ 624, 1650, 1715, 1812, 1909, 2216, 2713])"
            ]
          },
          "metadata": {},
          "execution_count": 117
        }
      ]
    },
    {
      "cell_type": "code",
      "metadata": {
        "colab": {
          "base_uri": "https://localhost:8080/",
          "height": 419
        },
        "id": "Ic_i7BCz8wAz",
        "outputId": "d6fe5551-edf6-4a4c-e290-d542faa3242b"
      },
      "source": [
        "ex.drop(lhelper)"
      ],
      "execution_count": 118,
      "outputs": [
        {
          "output_type": "execute_result",
          "data": {
            "text/html": [
              "<div>\n",
              "<style scoped>\n",
              "    .dataframe tbody tr th:only-of-type {\n",
              "        vertical-align: middle;\n",
              "    }\n",
              "\n",
              "    .dataframe tbody tr th {\n",
              "        vertical-align: top;\n",
              "    }\n",
              "\n",
              "    .dataframe thead th {\n",
              "        text-align: right;\n",
              "    }\n",
              "</style>\n",
              "<table border=\"1\" class=\"dataframe\">\n",
              "  <thead>\n",
              "    <tr style=\"text-align: right;\">\n",
              "      <th></th>\n",
              "      <th>ac</th>\n",
              "    </tr>\n",
              "  </thead>\n",
              "  <tbody>\n",
              "    <tr>\n",
              "      <th>0</th>\n",
              "      <td>0</td>\n",
              "    </tr>\n",
              "    <tr>\n",
              "      <th>1</th>\n",
              "      <td>0</td>\n",
              "    </tr>\n",
              "    <tr>\n",
              "      <th>2</th>\n",
              "      <td>0</td>\n",
              "    </tr>\n",
              "    <tr>\n",
              "      <th>3</th>\n",
              "      <td>0</td>\n",
              "    </tr>\n",
              "    <tr>\n",
              "      <th>4</th>\n",
              "      <td>0</td>\n",
              "    </tr>\n",
              "    <tr>\n",
              "      <th>...</th>\n",
              "      <td>...</td>\n",
              "    </tr>\n",
              "    <tr>\n",
              "      <th>2933</th>\n",
              "      <td>0</td>\n",
              "    </tr>\n",
              "    <tr>\n",
              "      <th>2934</th>\n",
              "      <td>0</td>\n",
              "    </tr>\n",
              "    <tr>\n",
              "      <th>2935</th>\n",
              "      <td>0</td>\n",
              "    </tr>\n",
              "    <tr>\n",
              "      <th>2936</th>\n",
              "      <td>0</td>\n",
              "    </tr>\n",
              "    <tr>\n",
              "      <th>2937</th>\n",
              "      <td>0</td>\n",
              "    </tr>\n",
              "  </tbody>\n",
              "</table>\n",
              "<p>2931 rows × 1 columns</p>\n",
              "</div>"
            ],
            "text/plain": [
              "      ac\n",
              "0      0\n",
              "1      0\n",
              "2      0\n",
              "3      0\n",
              "4      0\n",
              "...   ..\n",
              "2933   0\n",
              "2934   0\n",
              "2935   0\n",
              "2936   0\n",
              "2937   0\n",
              "\n",
              "[2931 rows x 1 columns]"
            ]
          },
          "metadata": {},
          "execution_count": 118
        }
      ]
    },
    {
      "cell_type": "code",
      "metadata": {
        "colab": {
          "base_uri": "https://localhost:8080/",
          "height": 204
        },
        "id": "nDvtZ1cd-t1F",
        "outputId": "f15f25e1-6329-48b5-a831-fcaad8fc6a64"
      },
      "source": [
        "df_op.head()"
      ],
      "execution_count": 125,
      "outputs": [
        {
          "output_type": "execute_result",
          "data": {
            "text/html": [
              "<div>\n",
              "<style scoped>\n",
              "    .dataframe tbody tr th:only-of-type {\n",
              "        vertical-align: middle;\n",
              "    }\n",
              "\n",
              "    .dataframe tbody tr th {\n",
              "        vertical-align: top;\n",
              "    }\n",
              "\n",
              "    .dataframe thead th {\n",
              "        text-align: right;\n",
              "    }\n",
              "</style>\n",
              "<table border=\"1\" class=\"dataframe\">\n",
              "  <thead>\n",
              "    <tr style=\"text-align: right;\">\n",
              "      <th></th>\n",
              "      <th>LifeExpentancy</th>\n",
              "      <th>AdultMortality</th>\n",
              "      <th>BMI</th>\n",
              "      <th>HIV/AIDS</th>\n",
              "      <th>IncomeCompositionOfResources</th>\n",
              "      <th>Schooling</th>\n",
              "    </tr>\n",
              "  </thead>\n",
              "  <tbody>\n",
              "    <tr>\n",
              "      <th>0</th>\n",
              "      <td>65.0</td>\n",
              "      <td>263.0</td>\n",
              "      <td>19.1</td>\n",
              "      <td>0.1</td>\n",
              "      <td>0.479</td>\n",
              "      <td>10.1</td>\n",
              "    </tr>\n",
              "    <tr>\n",
              "      <th>1</th>\n",
              "      <td>59.9</td>\n",
              "      <td>271.0</td>\n",
              "      <td>18.6</td>\n",
              "      <td>0.1</td>\n",
              "      <td>0.476</td>\n",
              "      <td>10.0</td>\n",
              "    </tr>\n",
              "    <tr>\n",
              "      <th>2</th>\n",
              "      <td>59.9</td>\n",
              "      <td>268.0</td>\n",
              "      <td>18.1</td>\n",
              "      <td>0.1</td>\n",
              "      <td>0.470</td>\n",
              "      <td>9.9</td>\n",
              "    </tr>\n",
              "    <tr>\n",
              "      <th>3</th>\n",
              "      <td>59.5</td>\n",
              "      <td>272.0</td>\n",
              "      <td>17.6</td>\n",
              "      <td>0.1</td>\n",
              "      <td>0.463</td>\n",
              "      <td>9.8</td>\n",
              "    </tr>\n",
              "    <tr>\n",
              "      <th>4</th>\n",
              "      <td>59.2</td>\n",
              "      <td>275.0</td>\n",
              "      <td>17.2</td>\n",
              "      <td>0.1</td>\n",
              "      <td>0.454</td>\n",
              "      <td>9.5</td>\n",
              "    </tr>\n",
              "  </tbody>\n",
              "</table>\n",
              "</div>"
            ],
            "text/plain": [
              "   LifeExpentancy  AdultMortality  ...  IncomeCompositionOfResources  Schooling\n",
              "0            65.0           263.0  ...                         0.479       10.1\n",
              "1            59.9           271.0  ...                         0.476       10.0\n",
              "2            59.9           268.0  ...                         0.470        9.9\n",
              "3            59.5           272.0  ...                         0.463        9.8\n",
              "4            59.2           275.0  ...                         0.454        9.5\n",
              "\n",
              "[5 rows x 6 columns]"
            ]
          },
          "metadata": {},
          "execution_count": 125
        }
      ]
    },
    {
      "cell_type": "code",
      "metadata": {
        "colab": {
          "base_uri": "https://localhost:8080/"
        },
        "id": "uK30nUd1_w9m",
        "outputId": "d7c71196-a1a5-4e18-cf6b-6d9b3b296332"
      },
      "source": [
        "df_op.LifeExpentancy.notnull()"
      ],
      "execution_count": 127,
      "outputs": [
        {
          "output_type": "execute_result",
          "data": {
            "text/plain": [
              "0       True\n",
              "1       True\n",
              "2       True\n",
              "3       True\n",
              "4       True\n",
              "        ... \n",
              "2933    True\n",
              "2934    True\n",
              "2935    True\n",
              "2936    True\n",
              "2937    True\n",
              "Name: LifeExpentancy, Length: 2931, dtype: bool"
            ]
          },
          "metadata": {},
          "execution_count": 127
        }
      ]
    },
    {
      "cell_type": "code",
      "metadata": {
        "colab": {
          "base_uri": "https://localhost:8080/",
          "height": 299
        },
        "id": "5ebESWgE-Vbb",
        "outputId": "9d29f997-b177-4b1e-d95a-207170f145c2"
      },
      "source": [
        "#df_op = df_op.drop(lhelper)\n",
        "df_op = df_op[df_op.LifeExpentancy.notnull()]"
      ],
      "execution_count": 124,
      "outputs": [
        {
          "output_type": "error",
          "ename": "AttributeError",
          "evalue": "ignored",
          "traceback": [
            "\u001b[0;31m---------------------------------------------------------------------------\u001b[0m",
            "\u001b[0;31mAttributeError\u001b[0m                            Traceback (most recent call last)",
            "\u001b[0;32m<ipython-input-124-58c344214833>\u001b[0m in \u001b[0;36m<module>\u001b[0;34m()\u001b[0m\n\u001b[1;32m      1\u001b[0m \u001b[0;31m#df_op = df_op.drop(lhelper)\u001b[0m\u001b[0;34m\u001b[0m\u001b[0;34m\u001b[0m\u001b[0;34m\u001b[0m\u001b[0m\n\u001b[0;32m----> 2\u001b[0;31m \u001b[0mdf_op\u001b[0m \u001b[0;34m=\u001b[0m \u001b[0mdf_op\u001b[0m\u001b[0;34m[\u001b[0m\u001b[0mdf_op\u001b[0m\u001b[0;34m.\u001b[0m\u001b[0mLifeExpectancy\u001b[0m\u001b[0;34m.\u001b[0m\u001b[0mnotnull\u001b[0m\u001b[0;34m(\u001b[0m\u001b[0;34m)\u001b[0m\u001b[0;34m]\u001b[0m\u001b[0;34m\u001b[0m\u001b[0;34m\u001b[0m\u001b[0m\n\u001b[0m",
            "\u001b[0;32m/usr/local/lib/python3.7/dist-packages/pandas/core/generic.py\u001b[0m in \u001b[0;36m__getattr__\u001b[0;34m(self, name)\u001b[0m\n\u001b[1;32m   5139\u001b[0m             \u001b[0;32mif\u001b[0m \u001b[0mself\u001b[0m\u001b[0;34m.\u001b[0m\u001b[0m_info_axis\u001b[0m\u001b[0;34m.\u001b[0m\u001b[0m_can_hold_identifiers_and_holds_name\u001b[0m\u001b[0;34m(\u001b[0m\u001b[0mname\u001b[0m\u001b[0;34m)\u001b[0m\u001b[0;34m:\u001b[0m\u001b[0;34m\u001b[0m\u001b[0;34m\u001b[0m\u001b[0m\n\u001b[1;32m   5140\u001b[0m                 \u001b[0;32mreturn\u001b[0m \u001b[0mself\u001b[0m\u001b[0;34m[\u001b[0m\u001b[0mname\u001b[0m\u001b[0;34m]\u001b[0m\u001b[0;34m\u001b[0m\u001b[0;34m\u001b[0m\u001b[0m\n\u001b[0;32m-> 5141\u001b[0;31m             \u001b[0;32mreturn\u001b[0m \u001b[0mobject\u001b[0m\u001b[0;34m.\u001b[0m\u001b[0m__getattribute__\u001b[0m\u001b[0;34m(\u001b[0m\u001b[0mself\u001b[0m\u001b[0;34m,\u001b[0m \u001b[0mname\u001b[0m\u001b[0;34m)\u001b[0m\u001b[0;34m\u001b[0m\u001b[0;34m\u001b[0m\u001b[0m\n\u001b[0m\u001b[1;32m   5142\u001b[0m \u001b[0;34m\u001b[0m\u001b[0m\n\u001b[1;32m   5143\u001b[0m     \u001b[0;32mdef\u001b[0m \u001b[0m__setattr__\u001b[0m\u001b[0;34m(\u001b[0m\u001b[0mself\u001b[0m\u001b[0;34m,\u001b[0m \u001b[0mname\u001b[0m\u001b[0;34m:\u001b[0m \u001b[0mstr\u001b[0m\u001b[0;34m,\u001b[0m \u001b[0mvalue\u001b[0m\u001b[0;34m)\u001b[0m \u001b[0;34m->\u001b[0m \u001b[0;32mNone\u001b[0m\u001b[0;34m:\u001b[0m\u001b[0;34m\u001b[0m\u001b[0;34m\u001b[0m\u001b[0m\n",
            "\u001b[0;31mAttributeError\u001b[0m: 'DataFrame' object has no attribute 'LifeExpectancy'"
          ]
        }
      ]
    },
    {
      "cell_type": "code",
      "metadata": {
        "id": "zI2ZVHCK9LGL"
      },
      "source": [
        "knn_imputer = KNNImputer(n_neighbors=2, weights=\"uniform\")\n",
        "datos_knn[['Primera prueba', 'Segunda prueba']] = knn_imputer.fit_transform(datos_knn[['Primera prueba', 'Segunda prueba']])\n",
        "datos_knn\n"
      ],
      "execution_count": null,
      "outputs": []
    }
  ]
}